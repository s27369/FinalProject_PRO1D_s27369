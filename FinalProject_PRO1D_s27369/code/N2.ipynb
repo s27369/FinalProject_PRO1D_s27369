{
 "cells": [
  {
   "cell_type": "code",
   "id": "initial_id",
   "metadata": {
    "collapsed": true,
    "ExecuteTime": {
     "end_time": "2025-01-22T11:03:36.910117Z",
     "start_time": "2025-01-22T11:03:33.594949Z"
    }
   },
   "source": [
    "from pandas import DataFrame\n",
    "# !pip install ucimlrepo\n",
    "from ucimlrepo import fetch_ucirepo\n",
    "import pandas as pd\n",
    "\n",
    "dec_att = 'violentCrimesPerPop'\n",
    "\n",
    "# fetch dataset\n",
    "communities_and_crime = fetch_ucirepo(id=183)\n",
    "df = pd.concat([communities_and_crime.data.features, communities_and_crime.data.targets], axis=1)\n",
    "df"
   ],
   "outputs": [
    {
     "data": {
      "text/plain": [
       "      state county community        communityname  fold  population  \\\n",
       "0         8      ?         ?         Lakewoodcity     1        0.19   \n",
       "1        53      ?         ?          Tukwilacity     1        0.00   \n",
       "2        24      ?         ?         Aberdeentown     1        0.00   \n",
       "3        34      5     81440  Willingborotownship     1        0.04   \n",
       "4        42     95      6096    Bethlehemtownship     1        0.01   \n",
       "...     ...    ...       ...                  ...   ...         ...   \n",
       "1989     12      ?         ?    TempleTerracecity    10        0.01   \n",
       "1990      6      ?         ?          Seasidecity    10        0.05   \n",
       "1991      9      9     80070        Waterburytown    10        0.16   \n",
       "1992     25     17     72600          Walthamcity    10        0.08   \n",
       "1993      6      ?         ?          Ontariocity    10        0.20   \n",
       "\n",
       "      householdsize  racepctblack  racePctWhite  racePctAsian  ...  LandArea  \\\n",
       "0              0.33          0.02          0.90          0.12  ...      0.12   \n",
       "1              0.16          0.12          0.74          0.45  ...      0.02   \n",
       "2              0.42          0.49          0.56          0.17  ...      0.01   \n",
       "3              0.77          1.00          0.08          0.12  ...      0.02   \n",
       "4              0.55          0.02          0.95          0.09  ...      0.04   \n",
       "...             ...           ...           ...           ...  ...       ...   \n",
       "1989           0.40          0.10          0.87          0.12  ...      0.01   \n",
       "1990           0.96          0.46          0.28          0.83  ...      0.02   \n",
       "1991           0.37          0.25          0.69          0.04  ...      0.08   \n",
       "1992           0.51          0.06          0.87          0.22  ...      0.03   \n",
       "1993           0.78          0.14          0.46          0.24  ...      0.11   \n",
       "\n",
       "      PopDens  PctUsePubTrans  PolicCars  PolicOperBudg  LemasPctPolicOnPatr  \\\n",
       "0        0.26            0.20       0.06           0.04                  0.9   \n",
       "1        0.12            0.45          ?              ?                    ?   \n",
       "2        0.21            0.02          ?              ?                    ?   \n",
       "3        0.39            0.28          ?              ?                    ?   \n",
       "4        0.09            0.02          ?              ?                    ?   \n",
       "...       ...             ...        ...            ...                  ...   \n",
       "1989     0.28            0.05          ?              ?                    ?   \n",
       "1990     0.37            0.20          ?              ?                    ?   \n",
       "1991     0.32            0.18       0.08           0.06                 0.78   \n",
       "1992     0.38            0.33       0.02           0.02                 0.79   \n",
       "1993     0.30            0.05       0.08           0.04                 0.73   \n",
       "\n",
       "      LemasGangUnitDeploy  LemasPctOfficDrugUn  PolicBudgPerPop  \\\n",
       "0                     0.5                 0.32             0.14   \n",
       "1                       ?                 0.00                ?   \n",
       "2                       ?                 0.00                ?   \n",
       "3                       ?                 0.00                ?   \n",
       "4                       ?                 0.00                ?   \n",
       "...                   ...                  ...              ...   \n",
       "1989                    ?                 0.00                ?   \n",
       "1990                    ?                 0.00                ?   \n",
       "1991                    0                 0.91             0.28   \n",
       "1992                    0                 0.22             0.18   \n",
       "1993                  0.5                 1.00             0.13   \n",
       "\n",
       "      ViolentCrimesPerPop  \n",
       "0                    0.20  \n",
       "1                    0.67  \n",
       "2                    0.43  \n",
       "3                    0.12  \n",
       "4                    0.03  \n",
       "...                   ...  \n",
       "1989                 0.09  \n",
       "1990                 0.45  \n",
       "1991                 0.23  \n",
       "1992                 0.19  \n",
       "1993                 0.48  \n",
       "\n",
       "[1994 rows x 128 columns]"
      ],
      "text/html": [
       "<div>\n",
       "<style scoped>\n",
       "    .dataframe tbody tr th:only-of-type {\n",
       "        vertical-align: middle;\n",
       "    }\n",
       "\n",
       "    .dataframe tbody tr th {\n",
       "        vertical-align: top;\n",
       "    }\n",
       "\n",
       "    .dataframe thead th {\n",
       "        text-align: right;\n",
       "    }\n",
       "</style>\n",
       "<table border=\"1\" class=\"dataframe\">\n",
       "  <thead>\n",
       "    <tr style=\"text-align: right;\">\n",
       "      <th></th>\n",
       "      <th>state</th>\n",
       "      <th>county</th>\n",
       "      <th>community</th>\n",
       "      <th>communityname</th>\n",
       "      <th>fold</th>\n",
       "      <th>population</th>\n",
       "      <th>householdsize</th>\n",
       "      <th>racepctblack</th>\n",
       "      <th>racePctWhite</th>\n",
       "      <th>racePctAsian</th>\n",
       "      <th>...</th>\n",
       "      <th>LandArea</th>\n",
       "      <th>PopDens</th>\n",
       "      <th>PctUsePubTrans</th>\n",
       "      <th>PolicCars</th>\n",
       "      <th>PolicOperBudg</th>\n",
       "      <th>LemasPctPolicOnPatr</th>\n",
       "      <th>LemasGangUnitDeploy</th>\n",
       "      <th>LemasPctOfficDrugUn</th>\n",
       "      <th>PolicBudgPerPop</th>\n",
       "      <th>ViolentCrimesPerPop</th>\n",
       "    </tr>\n",
       "  </thead>\n",
       "  <tbody>\n",
       "    <tr>\n",
       "      <th>0</th>\n",
       "      <td>8</td>\n",
       "      <td>?</td>\n",
       "      <td>?</td>\n",
       "      <td>Lakewoodcity</td>\n",
       "      <td>1</td>\n",
       "      <td>0.19</td>\n",
       "      <td>0.33</td>\n",
       "      <td>0.02</td>\n",
       "      <td>0.90</td>\n",
       "      <td>0.12</td>\n",
       "      <td>...</td>\n",
       "      <td>0.12</td>\n",
       "      <td>0.26</td>\n",
       "      <td>0.20</td>\n",
       "      <td>0.06</td>\n",
       "      <td>0.04</td>\n",
       "      <td>0.9</td>\n",
       "      <td>0.5</td>\n",
       "      <td>0.32</td>\n",
       "      <td>0.14</td>\n",
       "      <td>0.20</td>\n",
       "    </tr>\n",
       "    <tr>\n",
       "      <th>1</th>\n",
       "      <td>53</td>\n",
       "      <td>?</td>\n",
       "      <td>?</td>\n",
       "      <td>Tukwilacity</td>\n",
       "      <td>1</td>\n",
       "      <td>0.00</td>\n",
       "      <td>0.16</td>\n",
       "      <td>0.12</td>\n",
       "      <td>0.74</td>\n",
       "      <td>0.45</td>\n",
       "      <td>...</td>\n",
       "      <td>0.02</td>\n",
       "      <td>0.12</td>\n",
       "      <td>0.45</td>\n",
       "      <td>?</td>\n",
       "      <td>?</td>\n",
       "      <td>?</td>\n",
       "      <td>?</td>\n",
       "      <td>0.00</td>\n",
       "      <td>?</td>\n",
       "      <td>0.67</td>\n",
       "    </tr>\n",
       "    <tr>\n",
       "      <th>2</th>\n",
       "      <td>24</td>\n",
       "      <td>?</td>\n",
       "      <td>?</td>\n",
       "      <td>Aberdeentown</td>\n",
       "      <td>1</td>\n",
       "      <td>0.00</td>\n",
       "      <td>0.42</td>\n",
       "      <td>0.49</td>\n",
       "      <td>0.56</td>\n",
       "      <td>0.17</td>\n",
       "      <td>...</td>\n",
       "      <td>0.01</td>\n",
       "      <td>0.21</td>\n",
       "      <td>0.02</td>\n",
       "      <td>?</td>\n",
       "      <td>?</td>\n",
       "      <td>?</td>\n",
       "      <td>?</td>\n",
       "      <td>0.00</td>\n",
       "      <td>?</td>\n",
       "      <td>0.43</td>\n",
       "    </tr>\n",
       "    <tr>\n",
       "      <th>3</th>\n",
       "      <td>34</td>\n",
       "      <td>5</td>\n",
       "      <td>81440</td>\n",
       "      <td>Willingborotownship</td>\n",
       "      <td>1</td>\n",
       "      <td>0.04</td>\n",
       "      <td>0.77</td>\n",
       "      <td>1.00</td>\n",
       "      <td>0.08</td>\n",
       "      <td>0.12</td>\n",
       "      <td>...</td>\n",
       "      <td>0.02</td>\n",
       "      <td>0.39</td>\n",
       "      <td>0.28</td>\n",
       "      <td>?</td>\n",
       "      <td>?</td>\n",
       "      <td>?</td>\n",
       "      <td>?</td>\n",
       "      <td>0.00</td>\n",
       "      <td>?</td>\n",
       "      <td>0.12</td>\n",
       "    </tr>\n",
       "    <tr>\n",
       "      <th>4</th>\n",
       "      <td>42</td>\n",
       "      <td>95</td>\n",
       "      <td>6096</td>\n",
       "      <td>Bethlehemtownship</td>\n",
       "      <td>1</td>\n",
       "      <td>0.01</td>\n",
       "      <td>0.55</td>\n",
       "      <td>0.02</td>\n",
       "      <td>0.95</td>\n",
       "      <td>0.09</td>\n",
       "      <td>...</td>\n",
       "      <td>0.04</td>\n",
       "      <td>0.09</td>\n",
       "      <td>0.02</td>\n",
       "      <td>?</td>\n",
       "      <td>?</td>\n",
       "      <td>?</td>\n",
       "      <td>?</td>\n",
       "      <td>0.00</td>\n",
       "      <td>?</td>\n",
       "      <td>0.03</td>\n",
       "    </tr>\n",
       "    <tr>\n",
       "      <th>...</th>\n",
       "      <td>...</td>\n",
       "      <td>...</td>\n",
       "      <td>...</td>\n",
       "      <td>...</td>\n",
       "      <td>...</td>\n",
       "      <td>...</td>\n",
       "      <td>...</td>\n",
       "      <td>...</td>\n",
       "      <td>...</td>\n",
       "      <td>...</td>\n",
       "      <td>...</td>\n",
       "      <td>...</td>\n",
       "      <td>...</td>\n",
       "      <td>...</td>\n",
       "      <td>...</td>\n",
       "      <td>...</td>\n",
       "      <td>...</td>\n",
       "      <td>...</td>\n",
       "      <td>...</td>\n",
       "      <td>...</td>\n",
       "      <td>...</td>\n",
       "    </tr>\n",
       "    <tr>\n",
       "      <th>1989</th>\n",
       "      <td>12</td>\n",
       "      <td>?</td>\n",
       "      <td>?</td>\n",
       "      <td>TempleTerracecity</td>\n",
       "      <td>10</td>\n",
       "      <td>0.01</td>\n",
       "      <td>0.40</td>\n",
       "      <td>0.10</td>\n",
       "      <td>0.87</td>\n",
       "      <td>0.12</td>\n",
       "      <td>...</td>\n",
       "      <td>0.01</td>\n",
       "      <td>0.28</td>\n",
       "      <td>0.05</td>\n",
       "      <td>?</td>\n",
       "      <td>?</td>\n",
       "      <td>?</td>\n",
       "      <td>?</td>\n",
       "      <td>0.00</td>\n",
       "      <td>?</td>\n",
       "      <td>0.09</td>\n",
       "    </tr>\n",
       "    <tr>\n",
       "      <th>1990</th>\n",
       "      <td>6</td>\n",
       "      <td>?</td>\n",
       "      <td>?</td>\n",
       "      <td>Seasidecity</td>\n",
       "      <td>10</td>\n",
       "      <td>0.05</td>\n",
       "      <td>0.96</td>\n",
       "      <td>0.46</td>\n",
       "      <td>0.28</td>\n",
       "      <td>0.83</td>\n",
       "      <td>...</td>\n",
       "      <td>0.02</td>\n",
       "      <td>0.37</td>\n",
       "      <td>0.20</td>\n",
       "      <td>?</td>\n",
       "      <td>?</td>\n",
       "      <td>?</td>\n",
       "      <td>?</td>\n",
       "      <td>0.00</td>\n",
       "      <td>?</td>\n",
       "      <td>0.45</td>\n",
       "    </tr>\n",
       "    <tr>\n",
       "      <th>1991</th>\n",
       "      <td>9</td>\n",
       "      <td>9</td>\n",
       "      <td>80070</td>\n",
       "      <td>Waterburytown</td>\n",
       "      <td>10</td>\n",
       "      <td>0.16</td>\n",
       "      <td>0.37</td>\n",
       "      <td>0.25</td>\n",
       "      <td>0.69</td>\n",
       "      <td>0.04</td>\n",
       "      <td>...</td>\n",
       "      <td>0.08</td>\n",
       "      <td>0.32</td>\n",
       "      <td>0.18</td>\n",
       "      <td>0.08</td>\n",
       "      <td>0.06</td>\n",
       "      <td>0.78</td>\n",
       "      <td>0</td>\n",
       "      <td>0.91</td>\n",
       "      <td>0.28</td>\n",
       "      <td>0.23</td>\n",
       "    </tr>\n",
       "    <tr>\n",
       "      <th>1992</th>\n",
       "      <td>25</td>\n",
       "      <td>17</td>\n",
       "      <td>72600</td>\n",
       "      <td>Walthamcity</td>\n",
       "      <td>10</td>\n",
       "      <td>0.08</td>\n",
       "      <td>0.51</td>\n",
       "      <td>0.06</td>\n",
       "      <td>0.87</td>\n",
       "      <td>0.22</td>\n",
       "      <td>...</td>\n",
       "      <td>0.03</td>\n",
       "      <td>0.38</td>\n",
       "      <td>0.33</td>\n",
       "      <td>0.02</td>\n",
       "      <td>0.02</td>\n",
       "      <td>0.79</td>\n",
       "      <td>0</td>\n",
       "      <td>0.22</td>\n",
       "      <td>0.18</td>\n",
       "      <td>0.19</td>\n",
       "    </tr>\n",
       "    <tr>\n",
       "      <th>1993</th>\n",
       "      <td>6</td>\n",
       "      <td>?</td>\n",
       "      <td>?</td>\n",
       "      <td>Ontariocity</td>\n",
       "      <td>10</td>\n",
       "      <td>0.20</td>\n",
       "      <td>0.78</td>\n",
       "      <td>0.14</td>\n",
       "      <td>0.46</td>\n",
       "      <td>0.24</td>\n",
       "      <td>...</td>\n",
       "      <td>0.11</td>\n",
       "      <td>0.30</td>\n",
       "      <td>0.05</td>\n",
       "      <td>0.08</td>\n",
       "      <td>0.04</td>\n",
       "      <td>0.73</td>\n",
       "      <td>0.5</td>\n",
       "      <td>1.00</td>\n",
       "      <td>0.13</td>\n",
       "      <td>0.48</td>\n",
       "    </tr>\n",
       "  </tbody>\n",
       "</table>\n",
       "<p>1994 rows × 128 columns</p>\n",
       "</div>"
      ]
     },
     "execution_count": 10,
     "metadata": {},
     "output_type": "execute_result"
    }
   ],
   "execution_count": 10
  },
  {
   "metadata": {
    "ExecuteTime": {
     "end_time": "2025-01-22T11:03:36.960657Z",
     "start_time": "2025-01-22T11:03:36.951920Z"
    }
   },
   "cell_type": "code",
   "source": [
    "def camelCase(word: str) -> str:\n",
    "    return word[0].lower()+word[1:]\n",
    "\n",
    "df.columns = list(map(camelCase, df.columns))\n",
    "df.drop(columns=['fold', 'state', 'county', 'community', 'communityname' ], inplace=True)\n",
    "import numpy as np\n",
    "df.replace('?', np.nan, inplace=True)\n",
    "df.drop(columns=df.columns[df.isnull().sum() > 1000], inplace=True)\n",
    "df.shape"
   ],
   "id": "8126dad484d20058",
   "outputs": [
    {
     "data": {
      "text/plain": [
       "(1994, 101)"
      ]
     },
     "execution_count": 11,
     "metadata": {},
     "output_type": "execute_result"
    }
   ],
   "execution_count": 11
  },
  {
   "metadata": {
    "ExecuteTime": {
     "end_time": "2025-01-22T11:03:37.072888Z",
     "start_time": "2025-01-22T11:03:37.065940Z"
    }
   },
   "cell_type": "code",
   "source": [
    "from sklearn.impute import SimpleImputer\n",
    "imputer = SimpleImputer(strategy='mean')\n",
    "df['otherPerCap'] = imputer.fit_transform(df[['otherPerCap']])\n",
    "df[\"otherPerCap\"].isna().sum()"
   ],
   "id": "68a83dfb98e73196",
   "outputs": [
    {
     "data": {
      "text/plain": [
       "0"
      ]
     },
     "execution_count": 12,
     "metadata": {},
     "output_type": "execute_result"
    }
   ],
   "execution_count": 12
  },
  {
   "metadata": {
    "ExecuteTime": {
     "end_time": "2025-01-22T11:04:36.363648Z",
     "start_time": "2025-01-22T11:04:36.360549Z"
    }
   },
   "cell_type": "code",
   "source": [
    "X = df[df.columns[:-1]]\n",
    "y = df[df.columns[-1]]"
   ],
   "id": "2e0dd1b5e99de9fd",
   "outputs": [],
   "execution_count": 15
  },
  {
   "metadata": {
    "ExecuteTime": {
     "end_time": "2025-01-22T11:04:50.514717Z",
     "start_time": "2025-01-22T11:04:44.377505Z"
    }
   },
   "cell_type": "code",
   "source": [
    "from sklearn.ensemble import RandomForestRegressor\n",
    "rf = RandomForestRegressor(n_estimators=100, random_state=42)\n",
    "rf.fit(X, y)\n",
    "importances = rf.feature_importances_\n",
    "\n",
    "feature_importance_df = pd.DataFrame({\n",
    "    'Feature': X.columns,\n",
    "    'Importance': importances\n",
    "})\n",
    "#sort\n",
    "feature_importance_df = feature_importance_df.sort_values(by='Importance', ascending=False)\n",
    "\n",
    "def get_importance_threshold_dataset(sorted_feature_importance_df, threshold):\n",
    "    cumulative_importance = np.cumsum(sorted_feature_importance_df['Importance'])\n",
    "    #Find the number of features needed to reach 90% importance\n",
    "    num_features = np.argmax(cumulative_importance >= threshold) + 1\n",
    "\n",
    "    pairs = zip(sorted_feature_importance_df['Feature'], sorted_feature_importance_df[\"Importance\"])\n",
    "    lowest_acceptable_importance = sorted_feature_importance_df[\"Importance\"][::-1][num_features - 1]\n",
    "    important_features = [f for f, imp in pairs if imp >= lowest_acceptable_importance]\n",
    "    X_filtered = X[important_features]\n",
    "    # print(f\"Before: {sorted_feature_importance_df.shape[0]}; after: {X_filtered.shape[1]};\")\n",
    "    return X_filtered"
   ],
   "id": "8b5d0958a6720381",
   "outputs": [],
   "execution_count": 17
  },
  {
   "metadata": {
    "ExecuteTime": {
     "end_time": "2025-01-22T11:04:50.551991Z",
     "start_time": "2025-01-22T11:04:50.544793Z"
    }
   },
   "cell_type": "code",
   "source": [
    "datasets = {}\n",
    "datasets[\"100%_importance\"] = X\n",
    "for threshold in range (30, 91, 10):\n",
    "    datasets[f\"{threshold:03d}%_importance\"] = get_importance_threshold_dataset(feature_importance_df, threshold/100)\n",
    "\n",
    "def print_datasets(datasets):\n",
    "    for k,v in datasets.items():\n",
    "        print(k, v.shape)\n",
    "print_datasets(datasets)"
   ],
   "id": "879baf973cee632",
   "outputs": [
    {
     "name": "stdout",
     "output_type": "stream",
     "text": [
      "100%_importance (1994, 100)\n",
      "030%_importance (1994, 74)\n",
      "040%_importance (1994, 69)\n",
      "050%_importance (1994, 69)\n",
      "060%_importance (1994, 3)\n",
      "070%_importance (1994, 25)\n",
      "080%_importance (1994, 85)\n",
      "090%_importance (1994, 92)\n"
     ]
    }
   ],
   "execution_count": 18
  },
  {
   "metadata": {
    "ExecuteTime": {
     "end_time": "2025-01-22T11:04:50.586160Z",
     "start_time": "2025-01-22T11:04:50.583053Z"
    }
   },
   "cell_type": "code",
   "source": [
    "# for k,v in datasets.items():\n",
    "#     print(f'{k}: {\"agePct12t29\" in v.columns}')"
   ],
   "id": "6bf8746a38633b76",
   "outputs": [],
   "execution_count": 19
  },
  {
   "metadata": {
    "ExecuteTime": {
     "end_time": "2025-01-22T11:04:50.632033Z",
     "start_time": "2025-01-22T11:04:50.618721Z"
    }
   },
   "cell_type": "code",
   "source": [
    "from sklearn.model_selection import train_test_split\n",
    "#to prevent data leakage\n",
    "splits = {}\n",
    "for name, dataset in datasets.items():\n",
    "    X_train, X_test, y_train, y_test = train_test_split(dataset, y, test_size=0.25, random_state=42)\n",
    "    splits[name] = {\"X_train\": X_train, \"X_test\":X_test, \"y_train\": y_train, \"y_test\":y_test}\n",
    "for k, v in splits.items():\n",
    "    print(k)\n",
    "    print_datasets(v)\n",
    "    print()"
   ],
   "id": "18ee25417fdc5261",
   "outputs": [
    {
     "name": "stdout",
     "output_type": "stream",
     "text": [
      "100%_importance\n",
      "X_train (1495, 100)\n",
      "X_test (499, 100)\n",
      "y_train (1495,)\n",
      "y_test (499,)\n",
      "\n",
      "030%_importance\n",
      "X_train (1495, 74)\n",
      "X_test (499, 74)\n",
      "y_train (1495,)\n",
      "y_test (499,)\n",
      "\n",
      "040%_importance\n",
      "X_train (1495, 69)\n",
      "X_test (499, 69)\n",
      "y_train (1495,)\n",
      "y_test (499,)\n",
      "\n",
      "050%_importance\n",
      "X_train (1495, 69)\n",
      "X_test (499, 69)\n",
      "y_train (1495,)\n",
      "y_test (499,)\n",
      "\n",
      "060%_importance\n",
      "X_train (1495, 3)\n",
      "X_test (499, 3)\n",
      "y_train (1495,)\n",
      "y_test (499,)\n",
      "\n",
      "070%_importance\n",
      "X_train (1495, 25)\n",
      "X_test (499, 25)\n",
      "y_train (1495,)\n",
      "y_test (499,)\n",
      "\n",
      "080%_importance\n",
      "X_train (1495, 85)\n",
      "X_test (499, 85)\n",
      "y_train (1495,)\n",
      "y_test (499,)\n",
      "\n",
      "090%_importance\n",
      "X_train (1495, 92)\n",
      "X_test (499, 92)\n",
      "y_train (1495,)\n",
      "y_test (499,)\n",
      "\n"
     ]
    }
   ],
   "execution_count": 20
  },
  {
   "metadata": {
    "ExecuteTime": {
     "end_time": "2025-01-22T11:04:50.690963Z",
     "start_time": "2025-01-22T11:04:50.688621Z"
    }
   },
   "cell_type": "code",
   "source": [
    "results = {\n",
    "    \"model_name\":[],\n",
    "    \"mae\":[],\n",
    "    \"mse\":[],\n",
    "    \"r2\":[],\n",
    "    \"time\":[]\n",
    "}\n",
    "models = {}"
   ],
   "id": "11a43f498b9e45d3",
   "outputs": [],
   "execution_count": 21
  },
  {
   "metadata": {},
   "cell_type": "markdown",
   "source": "## XGB",
   "id": "a52e15b30082903a"
  },
  {
   "metadata": {
    "ExecuteTime": {
     "end_time": "2025-01-22T11:07:26.699964Z",
     "start_time": "2025-01-22T11:04:50.745608Z"
    }
   },
   "cell_type": "code",
   "source": [
    "from sklearn.model_selection import RandomizedSearchCV\n",
    "from xgboost import XGBRegressor\n",
    "param_grid = {\n",
    "    'n_estimators': [100, 300, 500],\n",
    "    'learning_rate': [0.01, 0.1, 0.2],\n",
    "    'max_depth': [3, 5, 10]\n",
    "}\n",
    "for name, spl in splits.items():\n",
    "    print(f\"{name}...\")\n",
    "    model = XGBRegressor(objective='reg:squarederror', random_state=42)\n",
    "    search = RandomizedSearchCV(\n",
    "        model, param_distributions=param_grid,\n",
    "        n_iter=20, scoring='neg_root_mean_squared_error',\n",
    "        cv=5, verbose=1, n_jobs=-1, random_state=42\n",
    "    )\n",
    "    search.fit(spl[\"X_train\"], spl[\"y_train\"])\n",
    "    models[name] = search.best_estimator_\n",
    "    print(f\"Best RMSE for {name}: {-search.best_score_:.4f}\")"
   ],
   "id": "cbabfa70cb59eabd",
   "outputs": [
    {
     "name": "stdout",
     "output_type": "stream",
     "text": [
      "100%_importance...\n",
      "Fitting 5 folds for each of 20 candidates, totalling 100 fits\n",
      "Best RMSE for 100%_importance: 0.1385\n",
      "030%_importance...\n",
      "Fitting 5 folds for each of 20 candidates, totalling 100 fits\n",
      "Best RMSE for 030%_importance: 0.1389\n",
      "040%_importance...\n",
      "Fitting 5 folds for each of 20 candidates, totalling 100 fits\n",
      "Best RMSE for 040%_importance: 0.1390\n",
      "050%_importance...\n",
      "Fitting 5 folds for each of 20 candidates, totalling 100 fits\n",
      "Best RMSE for 050%_importance: 0.1390\n",
      "060%_importance...\n",
      "Fitting 5 folds for each of 20 candidates, totalling 100 fits\n",
      "Best RMSE for 060%_importance: 0.1517\n",
      "070%_importance...\n",
      "Fitting 5 folds for each of 20 candidates, totalling 100 fits\n",
      "Best RMSE for 070%_importance: 0.1391\n",
      "080%_importance...\n",
      "Fitting 5 folds for each of 20 candidates, totalling 100 fits\n",
      "Best RMSE for 080%_importance: 0.1393\n",
      "090%_importance...\n",
      "Fitting 5 folds for each of 20 candidates, totalling 100 fits\n",
      "Best RMSE for 090%_importance: 0.1391\n"
     ]
    }
   ],
   "execution_count": 22
  },
  {
   "metadata": {},
   "cell_type": "markdown",
   "source": "## LinReg",
   "id": "5aaf47f4c225625e"
  },
  {
   "metadata": {
    "ExecuteTime": {
     "end_time": "2025-01-22T11:28:36.742743Z",
     "start_time": "2025-01-22T11:28:36.649062Z"
    }
   },
   "cell_type": "code",
   "source": [
    "from sklearn.metrics import mean_absolute_error, mean_squared_error, r2_score\n",
    "from sklearn.linear_model import LinearRegression\n",
    "reg = LinearRegression()\n",
    "reg.fit(splits[list(splits.keys())[0]][\"X_train\"], splits[list(splits.keys())[0]][\"y_train\"])\n",
    "pred = reg.predict(splits[list(splits.keys())[0]][\"X_test\"])\n",
    "mae = mean_absolute_error(splits[list(splits.keys())[0]]['y_test'], pred)\n",
    "mse = mean_squared_error(splits[list(splits.keys())[0]]['y_test'], pred)\n",
    "r2 = r2_score(splits[list(splits.keys())[0]]['y_test'], pred)\n",
    "print(mae, mse, r2)"
   ],
   "id": "77eebe9ef668fc0a",
   "outputs": [
    {
     "name": "stdout",
     "output_type": "stream",
     "text": [
      "0.09370630874921008 0.016934925100411356 0.6517189110115608\n"
     ]
    }
   ],
   "execution_count": 43
  },
  {
   "metadata": {
    "ExecuteTime": {
     "end_time": "2025-01-22T11:07:26.866723Z",
     "start_time": "2025-01-22T11:07:26.863348Z"
    }
   },
   "cell_type": "code",
   "source": [
    "from sklearn.metrics import mean_absolute_error, mean_squared_error, r2_score\n",
    "def eval_model(model, model_name:str, t):\n",
    "    pred = model.predict(splits[model_name]['X_test'])\n",
    "    mae = mean_absolute_error(splits[model_name]['y_test'], pred)\n",
    "    mse = mean_squared_error(splits[model_name]['y_test'], pred)\n",
    "    r2 = r2_score(splits[model_name]['y_test'], pred)\n",
    "\n",
    "    results[\"model_name\"].append(model_name)\n",
    "    results[\"mae\"].append(mae)\n",
    "    results[\"mse\"].append(mse)\n",
    "    results[\"r2\"].append(r2)\n",
    "    results[\"time\"].append(t)"
   ],
   "id": "5030cf6f4d2c0d0f",
   "outputs": [],
   "execution_count": 23
  },
  {
   "metadata": {
    "ExecuteTime": {
     "end_time": "2025-01-22T11:07:26.873236Z",
     "start_time": "2025-01-22T11:07:26.869729Z"
    }
   },
   "cell_type": "code",
   "source": [
    "from sklearn.metrics import mean_absolute_error, mean_squared_error, r2_score\n",
    "import time\n",
    "def fit_and_eval(model:XGBRegressor,model_name:str):\n",
    "    start = time.time()\n",
    "    model.fit(splits[model_name]['X_train'],splits[model_name]['y_train'])\n",
    "    t = time.time()-start\n",
    "    eval_model(model, model_name, t)"
   ],
   "id": "ab1074c4bce3527d",
   "outputs": [],
   "execution_count": 24
  },
  {
   "metadata": {
    "ExecuteTime": {
     "end_time": "2025-01-22T11:07:28.465484Z",
     "start_time": "2025-01-22T11:07:26.938963Z"
    }
   },
   "cell_type": "code",
   "source": [
    "from tqdm import tqdm\n",
    "for model_name, model in tqdm(models.items()):\n",
    "    fit_and_eval(model, model_name)"
   ],
   "id": "4709888a465b5602",
   "outputs": [
    {
     "name": "stderr",
     "output_type": "stream",
     "text": [
      "100%|██████████| 8/8 [00:01<00:00,  5.28it/s]\n"
     ]
    }
   ],
   "execution_count": 25
  },
  {
   "metadata": {
    "ExecuteTime": {
     "end_time": "2025-01-22T11:07:28.568289Z",
     "start_time": "2025-01-22T11:07:28.562350Z"
    }
   },
   "cell_type": "code",
   "source": [
    "df_results = pd.DataFrame(results)\n",
    "df_results"
   ],
   "id": "cc2447ca4b097486",
   "outputs": [
    {
     "data": {
      "text/plain": [
       "        model_name       mae       mse        r2      time\n",
       "0  100%_importance  0.089529  0.017551  0.639039  0.085134\n",
       "1  030%_importance  0.090361  0.017730  0.635377  0.072618\n",
       "2  040%_importance  0.090456  0.017564  0.638775  0.266413\n",
       "3  050%_importance  0.090456  0.017564  0.638775  0.268452\n",
       "4  060%_importance  0.095758  0.018664  0.616160  0.051564\n",
       "5  070%_importance  0.090377  0.018198  0.625737  0.249673\n",
       "6  080%_importance  0.090140  0.017491  0.640276  0.308950\n",
       "7  090%_importance  0.089961  0.017689  0.636200  0.083111"
      ],
      "text/html": [
       "<div>\n",
       "<style scoped>\n",
       "    .dataframe tbody tr th:only-of-type {\n",
       "        vertical-align: middle;\n",
       "    }\n",
       "\n",
       "    .dataframe tbody tr th {\n",
       "        vertical-align: top;\n",
       "    }\n",
       "\n",
       "    .dataframe thead th {\n",
       "        text-align: right;\n",
       "    }\n",
       "</style>\n",
       "<table border=\"1\" class=\"dataframe\">\n",
       "  <thead>\n",
       "    <tr style=\"text-align: right;\">\n",
       "      <th></th>\n",
       "      <th>model_name</th>\n",
       "      <th>mae</th>\n",
       "      <th>mse</th>\n",
       "      <th>r2</th>\n",
       "      <th>time</th>\n",
       "    </tr>\n",
       "  </thead>\n",
       "  <tbody>\n",
       "    <tr>\n",
       "      <th>0</th>\n",
       "      <td>100%_importance</td>\n",
       "      <td>0.089529</td>\n",
       "      <td>0.017551</td>\n",
       "      <td>0.639039</td>\n",
       "      <td>0.085134</td>\n",
       "    </tr>\n",
       "    <tr>\n",
       "      <th>1</th>\n",
       "      <td>030%_importance</td>\n",
       "      <td>0.090361</td>\n",
       "      <td>0.017730</td>\n",
       "      <td>0.635377</td>\n",
       "      <td>0.072618</td>\n",
       "    </tr>\n",
       "    <tr>\n",
       "      <th>2</th>\n",
       "      <td>040%_importance</td>\n",
       "      <td>0.090456</td>\n",
       "      <td>0.017564</td>\n",
       "      <td>0.638775</td>\n",
       "      <td>0.266413</td>\n",
       "    </tr>\n",
       "    <tr>\n",
       "      <th>3</th>\n",
       "      <td>050%_importance</td>\n",
       "      <td>0.090456</td>\n",
       "      <td>0.017564</td>\n",
       "      <td>0.638775</td>\n",
       "      <td>0.268452</td>\n",
       "    </tr>\n",
       "    <tr>\n",
       "      <th>4</th>\n",
       "      <td>060%_importance</td>\n",
       "      <td>0.095758</td>\n",
       "      <td>0.018664</td>\n",
       "      <td>0.616160</td>\n",
       "      <td>0.051564</td>\n",
       "    </tr>\n",
       "    <tr>\n",
       "      <th>5</th>\n",
       "      <td>070%_importance</td>\n",
       "      <td>0.090377</td>\n",
       "      <td>0.018198</td>\n",
       "      <td>0.625737</td>\n",
       "      <td>0.249673</td>\n",
       "    </tr>\n",
       "    <tr>\n",
       "      <th>6</th>\n",
       "      <td>080%_importance</td>\n",
       "      <td>0.090140</td>\n",
       "      <td>0.017491</td>\n",
       "      <td>0.640276</td>\n",
       "      <td>0.308950</td>\n",
       "    </tr>\n",
       "    <tr>\n",
       "      <th>7</th>\n",
       "      <td>090%_importance</td>\n",
       "      <td>0.089961</td>\n",
       "      <td>0.017689</td>\n",
       "      <td>0.636200</td>\n",
       "      <td>0.083111</td>\n",
       "    </tr>\n",
       "  </tbody>\n",
       "</table>\n",
       "</div>"
      ]
     },
     "execution_count": 26,
     "metadata": {},
     "output_type": "execute_result"
    }
   ],
   "execution_count": 26
  },
  {
   "metadata": {
    "ExecuteTime": {
     "end_time": "2025-01-22T11:07:28.656328Z",
     "start_time": "2025-01-22T11:07:28.653141Z"
    }
   },
   "cell_type": "code",
   "source": [
    "import matplotlib.pyplot as plt\n",
    "import seaborn as sns\n",
    "# results_melted = df_results.melt(id_vars=[\"model_name\"], var_name=\"Metric\", value_name=\"Value\", value_vars=[col for col in df_results.columns if col != \"r2\"])\n",
    "#\n",
    "# # Plot grouped bar chart\n",
    "# plt.figure(figsize=(12, 6))\n",
    "# sns.barplot(data=results_melted, x=\"model_name\", y=\"Value\", hue=\"Metric\", palette=\"tab10\",legend='auto')\n",
    "#\n",
    "# plt.title(\"Comparison of Model Performance by Feature Importance Threshold\")\n",
    "# plt.xlabel(\"Feature Importance Threshold Models\")\n",
    "# plt.ylabel(\"Metric Value\")\n",
    "# plt.xticks(rotation=15)\n",
    "# plt.legend(title=\"Metric\")\n",
    "# plt.grid(axis=\"y\", linestyle=\"--\", alpha=0.5)\n",
    "# plt.show()"
   ],
   "id": "46a849a2ef10c733",
   "outputs": [],
   "execution_count": 27
  },
  {
   "metadata": {
    "ExecuteTime": {
     "end_time": "2025-01-22T11:07:28.696811Z",
     "start_time": "2025-01-22T11:07:28.692257Z"
    }
   },
   "cell_type": "code",
   "source": [
    "import matplotlib.pyplot as plt\n",
    "def plot_results(metric_name, asc:True, bottom=False, top=False):\n",
    "    model_names = df_results[\"model_name\"]\n",
    "    metric_values = df_results[metric_name]\n",
    "\n",
    "    sorted_data = sorted(zip(model_names, metric_values), key=lambda item: item[1], reverse= not asc)\n",
    "    sorted_model_names, sorted_metric_values = zip(*sorted_data)\n",
    "\n",
    "    x_pos = np.arange(len(sorted_model_names))\n",
    "\n",
    "    plt.figure(figsize=(12, 6))\n",
    "    bars = plt.bar(x_pos, sorted_metric_values)\n",
    "\n",
    "    plt.xlabel(\"Models\")\n",
    "    plt.ylabel(metric_name)\n",
    "    plt.title(f\"{metric_name.capitalize()} of models\")\n",
    "    plt.xticks(x_pos, sorted_model_names, rotation=45, ha='right')\n",
    "\n",
    "    for bar, score in zip(bars, sorted_metric_values):\n",
    "        plt.text(bar.get_x() + bar.get_width() / 2, bar.get_height(), f'{score:.5f}', ha='center', va='bottom')\n",
    "\n",
    "    plt.tight_layout()\n",
    "    if bottom or top:\n",
    "        plt.ylim(bottom, top)\n",
    "    plt.show()"
   ],
   "id": "781aa57839aee305",
   "outputs": [],
   "execution_count": 28
  },
  {
   "metadata": {
    "ExecuteTime": {
     "end_time": "2025-01-22T11:21:38.341142Z",
     "start_time": "2025-01-22T11:21:38.335353Z"
    }
   },
   "cell_type": "code",
   "source": [
    "def color_generator(n_colors, cmap_name='tab20'):\n",
    "    cmap = plt.get_cmap(cmap_name, n_colors)\n",
    "    for i in range(n_colors):\n",
    "        yield cmap(i)\n",
    "model_names = list(models.keys())\n",
    "color_gen = color_generator(len(model_names))\n",
    "model_colors = {}\n",
    "for model_name in model_names:\n",
    "    model_colors[model_name] = next(color_gen)\n",
    "\n",
    "model_colors"
   ],
   "id": "ec3f37651a15befe",
   "outputs": [
    {
     "name": "stdout",
     "output_type": "stream",
     "text": [
      "7\n",
      "8 7\n"
     ]
    },
    {
     "data": {
      "text/plain": [
       "{'100%_importance': (0.12156862745098039,\n",
       "  0.4666666666666667,\n",
       "  0.7058823529411765,\n",
       "  1.0),\n",
       " '030%_importance': (1.0, 0.4980392156862745, 0.054901960784313725, 1.0),\n",
       " '040%_importance': (0.596078431372549,\n",
       "  0.8745098039215686,\n",
       "  0.5411764705882353,\n",
       "  1.0),\n",
       " '050%_importance': (0.5803921568627451,\n",
       "  0.403921568627451,\n",
       "  0.7411764705882353,\n",
       "  1.0),\n",
       " '060%_importance': (0.7686274509803922,\n",
       "  0.611764705882353,\n",
       "  0.5803921568627451,\n",
       "  1.0),\n",
       " '070%_importance': (0.4980392156862745,\n",
       "  0.4980392156862745,\n",
       "  0.4980392156862745,\n",
       "  1.0),\n",
       " '080%_importance': (0.8588235294117647,\n",
       "  0.8588235294117647,\n",
       "  0.5529411764705883,\n",
       "  1.0),\n",
       " '090%_importance': (0.6196078431372549,\n",
       "  0.8549019607843137,\n",
       "  0.8980392156862745,\n",
       "  1.0)}"
      ]
     },
     "execution_count": 40,
     "metadata": {},
     "output_type": "execute_result"
    }
   ],
   "execution_count": 40
  },
  {
   "metadata": {
    "ExecuteTime": {
     "end_time": "2025-01-22T11:22:04.767808Z",
     "start_time": "2025-01-22T11:22:04.763278Z"
    }
   },
   "cell_type": "code",
   "source": [
    "import matplotlib.pyplot as plt\n",
    "import numpy as np\n",
    "\n",
    "def plot_results(df_results, metric_name, asc=True, bottom=None, top=None):\n",
    "    # Extract model names and metric values\n",
    "    model_names = df_results[\"model_name\"]\n",
    "    metric_values = df_results[metric_name]\n",
    "\n",
    "    # Sort data\n",
    "    sorted_data = sorted(zip(model_names, metric_values), key=lambda item: item[1], reverse=not asc)\n",
    "    sorted_model_names, sorted_metric_values = zip(*sorted_data)\n",
    "\n",
    "    # Positioning bars\n",
    "    x_pos = np.arange(len(sorted_model_names))\n",
    "\n",
    "    # Create plot\n",
    "    plt.figure(figsize=(12, 6))\n",
    "    bars = plt.bar(x_pos, sorted_metric_values, color=[model_colors.get(model, 'grey') for model in sorted_model_names])  # Use model-specific colors\n",
    "\n",
    "    # Add labels and title\n",
    "    plt.xlabel(\"Models\")\n",
    "    plt.ylabel(metric_name)\n",
    "    plt.title(f\"{metric_name.capitalize()} of Models\")\n",
    "    plt.xticks(x_pos, sorted_model_names, rotation=45, ha='right')\n",
    "\n",
    "    # Add value labels on top of each bar\n",
    "    for bar, score in zip(bars, sorted_metric_values):\n",
    "        plt.text(bar.get_x() + bar.get_width() / 2, bar.get_height(), f'{score:.5f}', ha='center', va='bottom')\n",
    "\n",
    "    # Adjust layout\n",
    "    plt.tight_layout()\n",
    "\n",
    "    # Set limits if bottom or top values are provided\n",
    "    if bottom is not None or top is not None:\n",
    "        plt.ylim(bottom if bottom is not None else plt.ylim()[0], top if top is not None else plt.ylim()[1])\n",
    "\n",
    "    # Show plot\n",
    "    plt.show()\n"
   ],
   "id": "d3dbf55ff24c787d",
   "outputs": [],
   "execution_count": 41
  },
  {
   "metadata": {
    "ExecuteTime": {
     "end_time": "2025-01-22T11:22:08.123492Z",
     "start_time": "2025-01-22T11:22:07.507011Z"
    }
   },
   "cell_type": "code",
   "source": [
    "plot_results(df_results, metric_name=\"time\", asc=False)\n",
    "plot_results(df_results, metric_name=\"mse\", asc=True)\n",
    "plot_results(df_results, metric_name=\"mae\", asc=True)\n",
    "plot_results(df_results, metric_name=\"r2\", asc=False, bottom=min(df_results[\"r2\"])-0.05, top=max(df_results[\"r2\"])+0.05)"
   ],
   "id": "c7c2e24631e7db9d",
   "outputs": [
    {
     "data": {
      "text/plain": [
       "<Figure size 1200x600 with 1 Axes>"
      ],
      "image/png": "[encoded data removed]"
     },
     "metadata": {},
     "output_type": "display_data"
    },
    {
     "data": {
      "text/plain": [
       "<Figure size 1200x600 with 1 Axes>"
      ],
      "image/png": "[encoded data removed]"
     },
     "metadata": {},
     "output_type": "display_data"
    },
    {
     "data": {
      "text/plain": [
       "<Figure size 1200x600 with 1 Axes>"
      ],
      "image/png": "[encoded data removed]"
     },
     "metadata": {},
     "output_type": "display_data"
    },
    {
     "data": {
      "text/plain": [
       "<Figure size 1200x600 with 1 Axes>"
      ],
      "image/png": "[encoded data removed]"
     },
     "metadata": {},
     "output_type": "display_data"
    }
   ],
   "execution_count": 42
  },
  {
   "metadata": {},
   "cell_type": "code",
   "outputs": [],
   "execution_count": null,
   "source": "",
   "id": "7e66a1252fb56803"
  }
 ],
 "metadata": {
  "kernelspec": {
   "display_name": "Python 3",
   "language": "python",
   "name": "python3"
  },
  "language_info": {
   "codemirror_mode": {
    "name": "ipython",
    "version": 2
   },
   "file_extension": ".py",
   "mimetype": "text/x-python",
   "name": "python",
   "nbconvert_exporter": "python",
   "pygments_lexer": "ipython2",
   "version": "2.7.6"
  }
 },
 "nbformat": 4,
 "nbformat_minor": 5
}
