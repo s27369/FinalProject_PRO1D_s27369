{
 "cells": [
  {
   "cell_type": "code",
   "id": "initial_id",
   "metadata": {
    "collapsed": true,
    "ExecuteTime": {
     "end_time": "2025-01-21T14:23:50.889022Z",
     "start_time": "2025-01-21T14:23:46.026509Z"
    }
   },
   "source": [
    "from pandas import DataFrame\n",
    "# !pip install ucimlrepo\n",
    "from ucimlrepo import fetch_ucirepo\n",
    "import pandas as pd\n",
    "\n",
    "dec_att = 'ViolentCrimesPerPop'\n",
    "\n",
    "# fetch dataset\n",
    "communities_and_crime = fetch_ucirepo(id=183)\n",
    "df = pd.concat([communities_and_crime.data.features, communities_and_crime.data.targets], axis=1)\n",
    "df"
   ],
   "outputs": [
    {
     "data": {
      "text/plain": [
       "      state county community        communityname  fold  population  \\\n",
       "0         8      ?         ?         Lakewoodcity     1        0.19   \n",
       "1        53      ?         ?          Tukwilacity     1        0.00   \n",
       "2        24      ?         ?         Aberdeentown     1        0.00   \n",
       "3        34      5     81440  Willingborotownship     1        0.04   \n",
       "4        42     95      6096    Bethlehemtownship     1        0.01   \n",
       "...     ...    ...       ...                  ...   ...         ...   \n",
       "1989     12      ?         ?    TempleTerracecity    10        0.01   \n",
       "1990      6      ?         ?          Seasidecity    10        0.05   \n",
       "1991      9      9     80070        Waterburytown    10        0.16   \n",
       "1992     25     17     72600          Walthamcity    10        0.08   \n",
       "1993      6      ?         ?          Ontariocity    10        0.20   \n",
       "\n",
       "      householdsize  racepctblack  racePctWhite  racePctAsian  ...  LandArea  \\\n",
       "0              0.33          0.02          0.90          0.12  ...      0.12   \n",
       "1              0.16          0.12          0.74          0.45  ...      0.02   \n",
       "2              0.42          0.49          0.56          0.17  ...      0.01   \n",
       "3              0.77          1.00          0.08          0.12  ...      0.02   \n",
       "4              0.55          0.02          0.95          0.09  ...      0.04   \n",
       "...             ...           ...           ...           ...  ...       ...   \n",
       "1989           0.40          0.10          0.87          0.12  ...      0.01   \n",
       "1990           0.96          0.46          0.28          0.83  ...      0.02   \n",
       "1991           0.37          0.25          0.69          0.04  ...      0.08   \n",
       "1992           0.51          0.06          0.87          0.22  ...      0.03   \n",
       "1993           0.78          0.14          0.46          0.24  ...      0.11   \n",
       "\n",
       "      PopDens  PctUsePubTrans  PolicCars  PolicOperBudg  LemasPctPolicOnPatr  \\\n",
       "0        0.26            0.20       0.06           0.04                  0.9   \n",
       "1        0.12            0.45          ?              ?                    ?   \n",
       "2        0.21            0.02          ?              ?                    ?   \n",
       "3        0.39            0.28          ?              ?                    ?   \n",
       "4        0.09            0.02          ?              ?                    ?   \n",
       "...       ...             ...        ...            ...                  ...   \n",
       "1989     0.28            0.05          ?              ?                    ?   \n",
       "1990     0.37            0.20          ?              ?                    ?   \n",
       "1991     0.32            0.18       0.08           0.06                 0.78   \n",
       "1992     0.38            0.33       0.02           0.02                 0.79   \n",
       "1993     0.30            0.05       0.08           0.04                 0.73   \n",
       "\n",
       "      LemasGangUnitDeploy  LemasPctOfficDrugUn  PolicBudgPerPop  \\\n",
       "0                     0.5                 0.32             0.14   \n",
       "1                       ?                 0.00                ?   \n",
       "2                       ?                 0.00                ?   \n",
       "3                       ?                 0.00                ?   \n",
       "4                       ?                 0.00                ?   \n",
       "...                   ...                  ...              ...   \n",
       "1989                    ?                 0.00                ?   \n",
       "1990                    ?                 0.00                ?   \n",
       "1991                    0                 0.91             0.28   \n",
       "1992                    0                 0.22             0.18   \n",
       "1993                  0.5                 1.00             0.13   \n",
       "\n",
       "      ViolentCrimesPerPop  \n",
       "0                    0.20  \n",
       "1                    0.67  \n",
       "2                    0.43  \n",
       "3                    0.12  \n",
       "4                    0.03  \n",
       "...                   ...  \n",
       "1989                 0.09  \n",
       "1990                 0.45  \n",
       "1991                 0.23  \n",
       "1992                 0.19  \n",
       "1993                 0.48  \n",
       "\n",
       "[1994 rows x 128 columns]"
      ],
      "text/html": [
       "<div>\n",
       "<style scoped>\n",
       "    .dataframe tbody tr th:only-of-type {\n",
       "        vertical-align: middle;\n",
       "    }\n",
       "\n",
       "    .dataframe tbody tr th {\n",
       "        vertical-align: top;\n",
       "    }\n",
       "\n",
       "    .dataframe thead th {\n",
       "        text-align: right;\n",
       "    }\n",
       "</style>\n",
       "<table border=\"1\" class=\"dataframe\">\n",
       "  <thead>\n",
       "    <tr style=\"text-align: right;\">\n",
       "      <th></th>\n",
       "      <th>state</th>\n",
       "      <th>county</th>\n",
       "      <th>community</th>\n",
       "      <th>communityname</th>\n",
       "      <th>fold</th>\n",
       "      <th>population</th>\n",
       "      <th>householdsize</th>\n",
       "      <th>racepctblack</th>\n",
       "      <th>racePctWhite</th>\n",
       "      <th>racePctAsian</th>\n",
       "      <th>...</th>\n",
       "      <th>LandArea</th>\n",
       "      <th>PopDens</th>\n",
       "      <th>PctUsePubTrans</th>\n",
       "      <th>PolicCars</th>\n",
       "      <th>PolicOperBudg</th>\n",
       "      <th>LemasPctPolicOnPatr</th>\n",
       "      <th>LemasGangUnitDeploy</th>\n",
       "      <th>LemasPctOfficDrugUn</th>\n",
       "      <th>PolicBudgPerPop</th>\n",
       "      <th>ViolentCrimesPerPop</th>\n",
       "    </tr>\n",
       "  </thead>\n",
       "  <tbody>\n",
       "    <tr>\n",
       "      <th>0</th>\n",
       "      <td>8</td>\n",
       "      <td>?</td>\n",
       "      <td>?</td>\n",
       "      <td>Lakewoodcity</td>\n",
       "      <td>1</td>\n",
       "      <td>0.19</td>\n",
       "      <td>0.33</td>\n",
       "      <td>0.02</td>\n",
       "      <td>0.90</td>\n",
       "      <td>0.12</td>\n",
       "      <td>...</td>\n",
       "      <td>0.12</td>\n",
       "      <td>0.26</td>\n",
       "      <td>0.20</td>\n",
       "      <td>0.06</td>\n",
       "      <td>0.04</td>\n",
       "      <td>0.9</td>\n",
       "      <td>0.5</td>\n",
       "      <td>0.32</td>\n",
       "      <td>0.14</td>\n",
       "      <td>0.20</td>\n",
       "    </tr>\n",
       "    <tr>\n",
       "      <th>1</th>\n",
       "      <td>53</td>\n",
       "      <td>?</td>\n",
       "      <td>?</td>\n",
       "      <td>Tukwilacity</td>\n",
       "      <td>1</td>\n",
       "      <td>0.00</td>\n",
       "      <td>0.16</td>\n",
       "      <td>0.12</td>\n",
       "      <td>0.74</td>\n",
       "      <td>0.45</td>\n",
       "      <td>...</td>\n",
       "      <td>0.02</td>\n",
       "      <td>0.12</td>\n",
       "      <td>0.45</td>\n",
       "      <td>?</td>\n",
       "      <td>?</td>\n",
       "      <td>?</td>\n",
       "      <td>?</td>\n",
       "      <td>0.00</td>\n",
       "      <td>?</td>\n",
       "      <td>0.67</td>\n",
       "    </tr>\n",
       "    <tr>\n",
       "      <th>2</th>\n",
       "      <td>24</td>\n",
       "      <td>?</td>\n",
       "      <td>?</td>\n",
       "      <td>Aberdeentown</td>\n",
       "      <td>1</td>\n",
       "      <td>0.00</td>\n",
       "      <td>0.42</td>\n",
       "      <td>0.49</td>\n",
       "      <td>0.56</td>\n",
       "      <td>0.17</td>\n",
       "      <td>...</td>\n",
       "      <td>0.01</td>\n",
       "      <td>0.21</td>\n",
       "      <td>0.02</td>\n",
       "      <td>?</td>\n",
       "      <td>?</td>\n",
       "      <td>?</td>\n",
       "      <td>?</td>\n",
       "      <td>0.00</td>\n",
       "      <td>?</td>\n",
       "      <td>0.43</td>\n",
       "    </tr>\n",
       "    <tr>\n",
       "      <th>3</th>\n",
       "      <td>34</td>\n",
       "      <td>5</td>\n",
       "      <td>81440</td>\n",
       "      <td>Willingborotownship</td>\n",
       "      <td>1</td>\n",
       "      <td>0.04</td>\n",
       "      <td>0.77</td>\n",
       "      <td>1.00</td>\n",
       "      <td>0.08</td>\n",
       "      <td>0.12</td>\n",
       "      <td>...</td>\n",
       "      <td>0.02</td>\n",
       "      <td>0.39</td>\n",
       "      <td>0.28</td>\n",
       "      <td>?</td>\n",
       "      <td>?</td>\n",
       "      <td>?</td>\n",
       "      <td>?</td>\n",
       "      <td>0.00</td>\n",
       "      <td>?</td>\n",
       "      <td>0.12</td>\n",
       "    </tr>\n",
       "    <tr>\n",
       "      <th>4</th>\n",
       "      <td>42</td>\n",
       "      <td>95</td>\n",
       "      <td>6096</td>\n",
       "      <td>Bethlehemtownship</td>\n",
       "      <td>1</td>\n",
       "      <td>0.01</td>\n",
       "      <td>0.55</td>\n",
       "      <td>0.02</td>\n",
       "      <td>0.95</td>\n",
       "      <td>0.09</td>\n",
       "      <td>...</td>\n",
       "      <td>0.04</td>\n",
       "      <td>0.09</td>\n",
       "      <td>0.02</td>\n",
       "      <td>?</td>\n",
       "      <td>?</td>\n",
       "      <td>?</td>\n",
       "      <td>?</td>\n",
       "      <td>0.00</td>\n",
       "      <td>?</td>\n",
       "      <td>0.03</td>\n",
       "    </tr>\n",
       "    <tr>\n",
       "      <th>...</th>\n",
       "      <td>...</td>\n",
       "      <td>...</td>\n",
       "      <td>...</td>\n",
       "      <td>...</td>\n",
       "      <td>...</td>\n",
       "      <td>...</td>\n",
       "      <td>...</td>\n",
       "      <td>...</td>\n",
       "      <td>...</td>\n",
       "      <td>...</td>\n",
       "      <td>...</td>\n",
       "      <td>...</td>\n",
       "      <td>...</td>\n",
       "      <td>...</td>\n",
       "      <td>...</td>\n",
       "      <td>...</td>\n",
       "      <td>...</td>\n",
       "      <td>...</td>\n",
       "      <td>...</td>\n",
       "      <td>...</td>\n",
       "      <td>...</td>\n",
       "    </tr>\n",
       "    <tr>\n",
       "      <th>1989</th>\n",
       "      <td>12</td>\n",
       "      <td>?</td>\n",
       "      <td>?</td>\n",
       "      <td>TempleTerracecity</td>\n",
       "      <td>10</td>\n",
       "      <td>0.01</td>\n",
       "      <td>0.40</td>\n",
       "      <td>0.10</td>\n",
       "      <td>0.87</td>\n",
       "      <td>0.12</td>\n",
       "      <td>...</td>\n",
       "      <td>0.01</td>\n",
       "      <td>0.28</td>\n",
       "      <td>0.05</td>\n",
       "      <td>?</td>\n",
       "      <td>?</td>\n",
       "      <td>?</td>\n",
       "      <td>?</td>\n",
       "      <td>0.00</td>\n",
       "      <td>?</td>\n",
       "      <td>0.09</td>\n",
       "    </tr>\n",
       "    <tr>\n",
       "      <th>1990</th>\n",
       "      <td>6</td>\n",
       "      <td>?</td>\n",
       "      <td>?</td>\n",
       "      <td>Seasidecity</td>\n",
       "      <td>10</td>\n",
       "      <td>0.05</td>\n",
       "      <td>0.96</td>\n",
       "      <td>0.46</td>\n",
       "      <td>0.28</td>\n",
       "      <td>0.83</td>\n",
       "      <td>...</td>\n",
       "      <td>0.02</td>\n",
       "      <td>0.37</td>\n",
       "      <td>0.20</td>\n",
       "      <td>?</td>\n",
       "      <td>?</td>\n",
       "      <td>?</td>\n",
       "      <td>?</td>\n",
       "      <td>0.00</td>\n",
       "      <td>?</td>\n",
       "      <td>0.45</td>\n",
       "    </tr>\n",
       "    <tr>\n",
       "      <th>1991</th>\n",
       "      <td>9</td>\n",
       "      <td>9</td>\n",
       "      <td>80070</td>\n",
       "      <td>Waterburytown</td>\n",
       "      <td>10</td>\n",
       "      <td>0.16</td>\n",
       "      <td>0.37</td>\n",
       "      <td>0.25</td>\n",
       "      <td>0.69</td>\n",
       "      <td>0.04</td>\n",
       "      <td>...</td>\n",
       "      <td>0.08</td>\n",
       "      <td>0.32</td>\n",
       "      <td>0.18</td>\n",
       "      <td>0.08</td>\n",
       "      <td>0.06</td>\n",
       "      <td>0.78</td>\n",
       "      <td>0</td>\n",
       "      <td>0.91</td>\n",
       "      <td>0.28</td>\n",
       "      <td>0.23</td>\n",
       "    </tr>\n",
       "    <tr>\n",
       "      <th>1992</th>\n",
       "      <td>25</td>\n",
       "      <td>17</td>\n",
       "      <td>72600</td>\n",
       "      <td>Walthamcity</td>\n",
       "      <td>10</td>\n",
       "      <td>0.08</td>\n",
       "      <td>0.51</td>\n",
       "      <td>0.06</td>\n",
       "      <td>0.87</td>\n",
       "      <td>0.22</td>\n",
       "      <td>...</td>\n",
       "      <td>0.03</td>\n",
       "      <td>0.38</td>\n",
       "      <td>0.33</td>\n",
       "      <td>0.02</td>\n",
       "      <td>0.02</td>\n",
       "      <td>0.79</td>\n",
       "      <td>0</td>\n",
       "      <td>0.22</td>\n",
       "      <td>0.18</td>\n",
       "      <td>0.19</td>\n",
       "    </tr>\n",
       "    <tr>\n",
       "      <th>1993</th>\n",
       "      <td>6</td>\n",
       "      <td>?</td>\n",
       "      <td>?</td>\n",
       "      <td>Ontariocity</td>\n",
       "      <td>10</td>\n",
       "      <td>0.20</td>\n",
       "      <td>0.78</td>\n",
       "      <td>0.14</td>\n",
       "      <td>0.46</td>\n",
       "      <td>0.24</td>\n",
       "      <td>...</td>\n",
       "      <td>0.11</td>\n",
       "      <td>0.30</td>\n",
       "      <td>0.05</td>\n",
       "      <td>0.08</td>\n",
       "      <td>0.04</td>\n",
       "      <td>0.73</td>\n",
       "      <td>0.5</td>\n",
       "      <td>1.00</td>\n",
       "      <td>0.13</td>\n",
       "      <td>0.48</td>\n",
       "    </tr>\n",
       "  </tbody>\n",
       "</table>\n",
       "<p>1994 rows × 128 columns</p>\n",
       "</div>"
      ]
     },
     "execution_count": 1,
     "metadata": {},
     "output_type": "execute_result"
    }
   ],
   "execution_count": 1
  },
  {
   "metadata": {
    "ExecuteTime": {
     "end_time": "2025-01-21T14:23:50.940548Z",
     "start_time": "2025-01-21T14:23:50.931487Z"
    }
   },
   "cell_type": "code",
   "source": [
    "def camelCase(word: str) -> str:\n",
    "    return word[0].lower()+word[1:]\n",
    "\n",
    "df.columns = list(map(camelCase, df.columns))\n",
    "df.drop(columns=['fold', 'state', 'county', 'community', 'communityname' ], inplace=True)\n",
    "import numpy as np\n",
    "df.replace('?', np.nan, inplace=True)\n",
    "df.drop(columns=df.columns[df.isnull().sum() > 1000], inplace=True)\n",
    "df.shape"
   ],
   "id": "8126dad484d20058",
   "outputs": [
    {
     "data": {
      "text/plain": [
       "(1994, 101)"
      ]
     },
     "execution_count": 2,
     "metadata": {},
     "output_type": "execute_result"
    }
   ],
   "execution_count": 2
  },
  {
   "metadata": {
    "ExecuteTime": {
     "end_time": "2025-01-21T14:23:52.357438Z",
     "start_time": "2025-01-21T14:23:52.134014Z"
    }
   },
   "cell_type": "code",
   "source": [
    "from sklearn.impute import SimpleImputer\n",
    "imputer = SimpleImputer(strategy='mean')\n",
    "df['otherPerCap'] = imputer.fit_transform(df[['otherPerCap']])\n",
    "df[\"otherPerCap\"].isna().sum()"
   ],
   "id": "68a83dfb98e73196",
   "outputs": [
    {
     "data": {
      "text/plain": [
       "0"
      ]
     },
     "execution_count": 3,
     "metadata": {},
     "output_type": "execute_result"
    }
   ],
   "execution_count": 3
  },
  {
   "metadata": {
    "ExecuteTime": {
     "end_time": "2025-01-21T14:23:57.972664Z",
     "start_time": "2025-01-21T14:23:57.968495Z"
    }
   },
   "cell_type": "code",
   "source": [
    "X = df[df.columns[:-1]]\n",
    "y = df[df.columns[-1]]\n",
    "print(f\"X: {X.shape}; y:{y.shape};\")\n",
    "# correlation_matrix = X.corr()\n",
    "#\n",
    "# # Drop one feature from each pair with correlation > 0.85\n",
    "# high_corr_features = dict()\n",
    "# corr_threshold = 0.85\n",
    "# for i in range(len(correlation_matrix.columns)):\n",
    "#     for j in range(i):\n",
    "#         v = correlation_matrix.iloc[i, j]\n",
    "#         if abs(v) > corr_threshold:\n",
    "#             high_corr_features[correlation_matrix.columns[i]] = v\n",
    "\n",
    "# print(len(high_corr_features.keys()))\n",
    "# print(high_corr_features)"
   ],
   "id": "76fe3f04966aeebd",
   "outputs": [
    {
     "name": "stdout",
     "output_type": "stream",
     "text": [
      "X: (1994, 100); y:(1994,);\n"
     ]
    }
   ],
   "execution_count": 4
  },
  {
   "metadata": {
    "ExecuteTime": {
     "end_time": "2025-01-21T12:20:24.982570Z",
     "start_time": "2025-01-21T12:20:24.979116Z"
    }
   },
   "cell_type": "code",
   "source": "# X.drop(columns=high_corr_features.keys(), inplace=True)",
   "id": "d1304ee65e8827ae",
   "outputs": [
    {
     "name": "stdout",
     "output_type": "stream",
     "text": [
      "40\n"
     ]
    }
   ],
   "execution_count": 5
  },
  {
   "metadata": {
    "ExecuteTime": {
     "end_time": "2025-01-21T14:24:24.082505Z",
     "start_time": "2025-01-21T14:24:17.755462Z"
    }
   },
   "cell_type": "code",
   "source": [
    "from sklearn.ensemble import RandomForestRegressor\n",
    "rf = RandomForestRegressor(n_estimators=100, random_state=42)\n",
    "rf.fit(X, y)\n",
    "importances = rf.feature_importances_\n",
    "\n",
    "feature_importance_df = pd.DataFrame({\n",
    "    'Feature': X.columns,\n",
    "    'Importance': importances\n",
    "})\n",
    "#sort\n",
    "feature_importance_df = feature_importance_df.sort_values(by='Importance', ascending=False)\n",
    "\n",
    "def get_importance_threshold_dataset(sorted_feature_importance_df, threshold):\n",
    "    cumulative_importance = np.cumsum(sorted_feature_importance_df['Importance'])\n",
    "    #Find the number of features needed to reach 90% importance\n",
    "    num_features = np.argmax(cumulative_importance >= threshold) + 1\n",
    "\n",
    "    pairs = zip(sorted_feature_importance_df['Feature'], sorted_feature_importance_df[\"Importance\"])\n",
    "    lowest_acceptable_importance = sorted_feature_importance_df[\"Importance\"][::-1][num_features - 1]\n",
    "    important_features = [f for f, imp in pairs if imp >= lowest_acceptable_importance]\n",
    "    X_filtered = X[important_features]\n",
    "    # print(f\"Before: {sorted_feature_importance_df.shape[0]}; after: {X_filtered.shape[1]};\")\n",
    "    return X_filtered"
   ],
   "id": "8b5d0958a6720381",
   "outputs": [],
   "execution_count": 5
  },
  {
   "metadata": {
    "ExecuteTime": {
     "end_time": "2025-01-21T14:24:31.215093Z",
     "start_time": "2025-01-21T14:24:31.206587Z"
    }
   },
   "cell_type": "code",
   "source": [
    "datasets = {}\n",
    "datasets[\"100%_importance\"] = X\n",
    "for threshold in range (30, 91, 10):\n",
    "    datasets[f\"{threshold:03d}%_importance\"] = get_importance_threshold_dataset(feature_importance_df, threshold/100)\n",
    "\n",
    "def print_datasets(datasets):\n",
    "    for k,v in datasets.items():\n",
    "        print(k, v.shape)\n",
    "print_datasets(datasets)"
   ],
   "id": "879baf973cee632",
   "outputs": [
    {
     "name": "stdout",
     "output_type": "stream",
     "text": [
      "100%_importance (1994, 100)\n",
      "030%_importance (1994, 74)\n",
      "040%_importance (1994, 69)\n",
      "050%_importance (1994, 69)\n",
      "060%_importance (1994, 3)\n",
      "070%_importance (1994, 25)\n",
      "080%_importance (1994, 85)\n",
      "090%_importance (1994, 92)\n"
     ]
    }
   ],
   "execution_count": 6
  },
  {
   "metadata": {
    "ExecuteTime": {
     "end_time": "2025-01-21T14:24:38.116979Z",
     "start_time": "2025-01-21T14:24:38.115031Z"
    }
   },
   "cell_type": "code",
   "source": [
    "# for k,v in datasets.items():\n",
    "#     print(f'{k}: {\"agePct12t29\" in v.columns}')"
   ],
   "id": "6bf8746a38633b76",
   "outputs": [],
   "execution_count": 7
  },
  {
   "metadata": {
    "ExecuteTime": {
     "end_time": "2025-01-21T14:27:58.847747Z",
     "start_time": "2025-01-21T14:24:43.447488Z"
    }
   },
   "cell_type": "code",
   "source": [
    "from xgboost import XGBRegressor\n",
    "from sklearn.model_selection import RandomizedSearchCV\n",
    "best_models = {}  # Store best models for each dataset\n",
    "param_grid = {\n",
    "    'n_estimators': [100, 300, 500],\n",
    "    'learning_rate': [0.01, 0.1, 0.2],\n",
    "    'max_depth': [3, 5, 10]\n",
    "}\n",
    "for name, X_filtered in datasets.items():\n",
    "    print(f\"Running RandomizedSearchCV for {name}...\")\n",
    "\n",
    "    model = XGBRegressor(objective='reg:squarederror', random_state=42)\n",
    "\n",
    "    search = RandomizedSearchCV(\n",
    "        model, param_distributions=param_grid,\n",
    "        n_iter=20, scoring='neg_root_mean_squared_error',\n",
    "        cv=5, verbose=1, n_jobs=-1, random_state=42\n",
    "    )\n",
    "\n",
    "    search.fit(X_filtered, y)\n",
    "\n",
    "    best_models[name] = search.best_estimator_\n",
    "    print(f\"Best RMSE for {name}: {-search.best_score_:.4f}\")"
   ],
   "id": "cbabfa70cb59eabd",
   "outputs": [
    {
     "name": "stdout",
     "output_type": "stream",
     "text": [
      "Running RandomizedSearchCV for 100%_importance...\n",
      "Fitting 5 folds for each of 20 candidates, totalling 100 fits\n",
      "Best RMSE for 100%_importance: 0.1361\n",
      "Running RandomizedSearchCV for 030%_importance...\n",
      "Fitting 5 folds for each of 20 candidates, totalling 100 fits\n",
      "Best RMSE for 030%_importance: 0.1368\n",
      "Running RandomizedSearchCV for 040%_importance...\n",
      "Fitting 5 folds for each of 20 candidates, totalling 100 fits\n",
      "Best RMSE for 040%_importance: 0.1367\n",
      "Running RandomizedSearchCV for 050%_importance...\n",
      "Fitting 5 folds for each of 20 candidates, totalling 100 fits\n",
      "Best RMSE for 050%_importance: 0.1367\n",
      "Running RandomizedSearchCV for 060%_importance...\n",
      "Fitting 5 folds for each of 20 candidates, totalling 100 fits\n",
      "Best RMSE for 060%_importance: 0.1458\n",
      "Running RandomizedSearchCV for 070%_importance...\n",
      "Fitting 5 folds for each of 20 candidates, totalling 100 fits\n",
      "Best RMSE for 070%_importance: 0.1361\n",
      "Running RandomizedSearchCV for 080%_importance...\n",
      "Fitting 5 folds for each of 20 candidates, totalling 100 fits\n",
      "Best RMSE for 080%_importance: 0.1366\n",
      "Running RandomizedSearchCV for 090%_importance...\n",
      "Fitting 5 folds for each of 20 candidates, totalling 100 fits\n",
      "Best RMSE for 090%_importance: 0.1366\n"
     ]
    }
   ],
   "execution_count": 8
  },
  {
   "metadata": {
    "ExecuteTime": {
     "end_time": "2025-01-21T14:27:58.938484Z",
     "start_time": "2025-01-21T14:27:58.933712Z"
    }
   },
   "cell_type": "code",
   "source": [
    "# models = {f\"xgb ({k[:4]})\":v for k, v in best_models.items()}\n",
    "models = {}\n",
    "models = {k:v for k, v in best_models.items()}\n",
    "models.keys()"
   ],
   "id": "be612be60042b88c",
   "outputs": [
    {
     "data": {
      "text/plain": [
       "dict_keys(['100%_importance', '030%_importance', '040%_importance', '050%_importance', '060%_importance', '070%_importance', '080%_importance', '090%_importance'])"
      ]
     },
     "execution_count": 9,
     "metadata": {},
     "output_type": "execute_result"
    }
   ],
   "execution_count": 9
  },
  {
   "metadata": {
    "ExecuteTime": {
     "end_time": "2025-01-21T14:27:58.947128Z",
     "start_time": "2025-01-21T14:27:58.944043Z"
    }
   },
   "cell_type": "code",
   "source": [
    "results = {\n",
    "    \"model_name\":[],\n",
    "    \"mae\":[],\n",
    "    \"mse\":[],\n",
    "    \"r2\":[],\n",
    "    \"time\":[]\n",
    "}"
   ],
   "id": "11a43f498b9e45d3",
   "outputs": [],
   "execution_count": 10
  },
  {
   "metadata": {
    "ExecuteTime": {
     "end_time": "2025-01-21T14:27:59.041699Z",
     "start_time": "2025-01-21T14:27:59.037413Z"
    }
   },
   "cell_type": "code",
   "source": [
    "from sklearn.metrics import mean_absolute_error, mean_squared_error, r2_score\n",
    "from sklearn.model_selection import train_test_split\n",
    "import time\n",
    "def fit_and_eval(model:XGBRegressor,model_name:str, X:pd.DataFrame, y:pd.DataFrame):\n",
    "    X_train, X_test, y_train, y_test = train_test_split(X, y, test_size=0.25, random_state=42)\n",
    "    start = time.time()\n",
    "    model.fit(X_train,y_train)\n",
    "    t = time.time()-start\n",
    "    pred = model.predict(X_test)\n",
    "    mae = mean_absolute_error(y_test, pred)\n",
    "    mse = mean_squared_error(y_test, pred)\n",
    "    r2 = r2_score(y_test, pred)\n",
    "\n",
    "    results[\"model_name\"].append(model_name)\n",
    "    results[\"mae\"].append(mae)\n",
    "    results[\"mse\"].append(mse)\n",
    "    results[\"r2\"].append(r2)\n",
    "    results[\"time\"].append(t)"
   ],
   "id": "ab1074c4bce3527d",
   "outputs": [],
   "execution_count": 11
  },
  {
   "metadata": {
    "ExecuteTime": {
     "end_time": "2025-01-21T14:28:02.492965Z",
     "start_time": "2025-01-21T14:27:59.044792Z"
    }
   },
   "cell_type": "code",
   "source": [
    "from tqdm import tqdm\n",
    "for model_name, model in tqdm(models.items()):\n",
    "    fit_and_eval(model, model_name, datasets[model_name], y)\n"
   ],
   "id": "4709888a465b5602",
   "outputs": [
    {
     "name": "stderr",
     "output_type": "stream",
     "text": [
      "100%|██████████| 8/8 [00:03<00:00,  2.33it/s]\n"
     ]
    }
   ],
   "execution_count": 12
  },
  {
   "metadata": {
    "ExecuteTime": {
     "end_time": "2025-01-21T14:28:02.564459Z",
     "start_time": "2025-01-21T14:28:02.556436Z"
    }
   },
   "cell_type": "code",
   "source": [
    "df_results = pd.DataFrame(results)\n",
    "df_results"
   ],
   "id": "cc2447ca4b097486",
   "outputs": [
    {
     "data": {
      "text/plain": [
       "        model_name       mae       mse        r2      time\n",
       "0  100%_importance  0.089653  0.017320  0.643792  0.620857\n",
       "1  030%_importance  0.090308  0.017417  0.641810  0.545997\n",
       "2  040%_importance  0.089668  0.017356  0.643067  0.509853\n",
       "3  050%_importance  0.089668  0.017356  0.643067  0.482799\n",
       "4  060%_importance  0.093500  0.018347  0.622672  0.091622\n",
       "5  070%_importance  0.090863  0.018038  0.629026  0.145169\n",
       "6  080%_importance  0.089198  0.017243  0.645379  0.554875\n",
       "7  090%_importance  0.090051  0.017499  0.640128  0.330033"
      ],
      "text/html": [
       "<div>\n",
       "<style scoped>\n",
       "    .dataframe tbody tr th:only-of-type {\n",
       "        vertical-align: middle;\n",
       "    }\n",
       "\n",
       "    .dataframe tbody tr th {\n",
       "        vertical-align: top;\n",
       "    }\n",
       "\n",
       "    .dataframe thead th {\n",
       "        text-align: right;\n",
       "    }\n",
       "</style>\n",
       "<table border=\"1\" class=\"dataframe\">\n",
       "  <thead>\n",
       "    <tr style=\"text-align: right;\">\n",
       "      <th></th>\n",
       "      <th>model_name</th>\n",
       "      <th>mae</th>\n",
       "      <th>mse</th>\n",
       "      <th>r2</th>\n",
       "      <th>time</th>\n",
       "    </tr>\n",
       "  </thead>\n",
       "  <tbody>\n",
       "    <tr>\n",
       "      <th>0</th>\n",
       "      <td>100%_importance</td>\n",
       "      <td>0.089653</td>\n",
       "      <td>0.017320</td>\n",
       "      <td>0.643792</td>\n",
       "      <td>0.620857</td>\n",
       "    </tr>\n",
       "    <tr>\n",
       "      <th>1</th>\n",
       "      <td>030%_importance</td>\n",
       "      <td>0.090308</td>\n",
       "      <td>0.017417</td>\n",
       "      <td>0.641810</td>\n",
       "      <td>0.545997</td>\n",
       "    </tr>\n",
       "    <tr>\n",
       "      <th>2</th>\n",
       "      <td>040%_importance</td>\n",
       "      <td>0.089668</td>\n",
       "      <td>0.017356</td>\n",
       "      <td>0.643067</td>\n",
       "      <td>0.509853</td>\n",
       "    </tr>\n",
       "    <tr>\n",
       "      <th>3</th>\n",
       "      <td>050%_importance</td>\n",
       "      <td>0.089668</td>\n",
       "      <td>0.017356</td>\n",
       "      <td>0.643067</td>\n",
       "      <td>0.482799</td>\n",
       "    </tr>\n",
       "    <tr>\n",
       "      <th>4</th>\n",
       "      <td>060%_importance</td>\n",
       "      <td>0.093500</td>\n",
       "      <td>0.018347</td>\n",
       "      <td>0.622672</td>\n",
       "      <td>0.091622</td>\n",
       "    </tr>\n",
       "    <tr>\n",
       "      <th>5</th>\n",
       "      <td>070%_importance</td>\n",
       "      <td>0.090863</td>\n",
       "      <td>0.018038</td>\n",
       "      <td>0.629026</td>\n",
       "      <td>0.145169</td>\n",
       "    </tr>\n",
       "    <tr>\n",
       "      <th>6</th>\n",
       "      <td>080%_importance</td>\n",
       "      <td>0.089198</td>\n",
       "      <td>0.017243</td>\n",
       "      <td>0.645379</td>\n",
       "      <td>0.554875</td>\n",
       "    </tr>\n",
       "    <tr>\n",
       "      <th>7</th>\n",
       "      <td>090%_importance</td>\n",
       "      <td>0.090051</td>\n",
       "      <td>0.017499</td>\n",
       "      <td>0.640128</td>\n",
       "      <td>0.330033</td>\n",
       "    </tr>\n",
       "  </tbody>\n",
       "</table>\n",
       "</div>"
      ]
     },
     "execution_count": 13,
     "metadata": {},
     "output_type": "execute_result"
    }
   ],
   "execution_count": 13
  },
  {
   "metadata": {
    "ExecuteTime": {
     "end_time": "2025-01-21T14:28:02.644854Z",
     "start_time": "2025-01-21T14:28:02.640396Z"
    }
   },
   "cell_type": "code",
   "source": [
    "import matplotlib.pyplot as plt\n",
    "def plot_results(metric_name, asc:True):\n",
    "    data = df_results[metric_name].to_dict()\n",
    "\n",
    "    model_names = df_results[\"model_name\"]\n",
    "    metric_values = df_results[metric_name]\n",
    "\n",
    "    sorted_data = sorted(zip(model_names, metric_values), key=lambda item: item[1], reverse= not asc)\n",
    "    sorted_model_names, sorted_metric_values = zip(*sorted_data)\n",
    "\n",
    "    x_pos = np.arange(len(sorted_model_names))\n",
    "\n",
    "    plt.figure(figsize=(12, 6))\n",
    "    bars = plt.bar(x_pos, sorted_metric_values)\n",
    "\n",
    "    plt.xlabel(\"Models\")\n",
    "    plt.ylabel(metric_name)\n",
    "    plt.title(f\"{metric_name} of models\")\n",
    "    plt.xticks(x_pos, sorted_model_names, rotation=45, ha='right')\n",
    "\n",
    "    for bar, score in zip(bars, sorted_metric_values):\n",
    "        plt.text(bar.get_x() + bar.get_width() / 2, bar.get_height(), f'{score:.5f}', ha='center', va='bottom')\n",
    "\n",
    "    plt.tight_layout()\n",
    "    plt.show()"
   ],
   "id": "781aa57839aee305",
   "outputs": [],
   "execution_count": 14
  },
  {
   "metadata": {
    "ExecuteTime": {
     "end_time": "2025-01-21T14:30:13.675910Z",
     "start_time": "2025-01-21T14:30:13.506882Z"
    }
   },
   "cell_type": "code",
   "source": "plot_results(\"time\", False)",
   "id": "c7c2e24631e7db9d",
   "outputs": [
    {
     "data": {
      "text/plain": [
       "<Figure size 1200x600 with 1 Axes>"
      ],
      "image/png": "[encoded data removed]"
     },
     "metadata": {},
     "output_type": "display_data"
    }
   ],
   "execution_count": 16
  },
  {
   "metadata": {
    "ExecuteTime": {
     "end_time": "2025-01-21T14:30:15.749971Z",
     "start_time": "2025-01-21T14:30:15.600197Z"
    }
   },
   "cell_type": "code",
   "source": "plot_results(\"mse\", True)",
   "id": "a24643fff9959772",
   "outputs": [
    {
     "data": {
      "text/plain": [
       "<Figure size 1200x600 with 1 Axes>"
      ],
      "image/png": "[encoded data removed]"
     },
     "metadata": {},
     "output_type": "display_data"
    }
   ],
   "execution_count": 17
  },
  {
   "metadata": {
    "ExecuteTime": {
     "end_time": "2025-01-21T14:30:16.449094Z",
     "start_time": "2025-01-21T14:30:16.310208Z"
    }
   },
   "cell_type": "code",
   "source": "plot_results(\"mae\", True)",
   "id": "84050ca66228814",
   "outputs": [
    {
     "data": {
      "text/plain": [
       "<Figure size 1200x600 with 1 Axes>"
      ],
      "image/png": "[encoded data removed]"
     },
     "metadata": {},
     "output_type": "display_data"
    }
   ],
   "execution_count": 18
  },
  {
   "metadata": {
    "ExecuteTime": {
     "end_time": "2025-01-21T14:30:17.166323Z",
     "start_time": "2025-01-21T14:30:17.015257Z"
    }
   },
   "cell_type": "code",
   "source": "plot_results(\"r2\", False)",
   "id": "5e2fcd77ee730eb2",
   "outputs": [
    {
     "data": {
      "text/plain": [
       "<Figure size 1200x600 with 1 Axes>"
      ],
      "image/png": "[encoded data removed]"
     },
     "metadata": {},
     "output_type": "display_data"
    }
   ],
   "execution_count": 19
  },
  {
   "metadata": {},
   "cell_type": "code",
   "outputs": [],
   "execution_count": null,
   "source": "",
   "id": "7e66a1252fb56803"
  }
 ],
 "metadata": {
  "kernelspec": {
   "display_name": "Python 3",
   "language": "python",
   "name": "python3"
  },
  "language_info": {
   "codemirror_mode": {
    "name": "ipython",
    "version": 2
   },
   "file_extension": ".py",
   "mimetype": "text/x-python",
   "name": "python",
   "nbconvert_exporter": "python",
   "pygments_lexer": "ipython2",
   "version": "2.7.6"
  }
 },
 "nbformat": 4,
 "nbformat_minor": 5
}
